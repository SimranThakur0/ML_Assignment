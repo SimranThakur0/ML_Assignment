{
 "cells": [
  {
   "cell_type": "markdown",
   "id": "18f1d77c-b7d8-4525-925e-d04b88729f06",
   "metadata": {},
   "source": [
    "# Importing All the necessary Libraries"
   ]
  },
  {
   "cell_type": "code",
   "execution_count": 41,
   "id": "dac9f529-27bc-4717-af82-1dddebde067a",
   "metadata": {},
   "outputs": [
    {
     "name": "stdout",
     "output_type": "stream",
     "text": [
      "Requirement already satisfied: dash in c:\\users\\shiva\\anaconda3\\lib\\site-packages (2.18.2)\n",
      "Requirement already satisfied: Flask<3.1,>=1.0.4 in c:\\users\\shiva\\anaconda3\\lib\\site-packages (from dash) (3.0.3)\n",
      "Requirement already satisfied: Werkzeug<3.1 in c:\\users\\shiva\\anaconda3\\lib\\site-packages (from dash) (3.0.3)\n",
      "Requirement already satisfied: plotly>=5.0.0 in c:\\users\\shiva\\anaconda3\\lib\\site-packages (from dash) (5.22.0)\n",
      "Requirement already satisfied: dash-html-components==2.0.0 in c:\\users\\shiva\\anaconda3\\lib\\site-packages (from dash) (2.0.0)\n",
      "Requirement already satisfied: dash-core-components==2.0.0 in c:\\users\\shiva\\anaconda3\\lib\\site-packages (from dash) (2.0.0)\n",
      "Requirement already satisfied: dash-table==5.0.0 in c:\\users\\shiva\\anaconda3\\lib\\site-packages (from dash) (5.0.0)\n",
      "Requirement already satisfied: importlib-metadata in c:\\users\\shiva\\anaconda3\\lib\\site-packages (from dash) (7.0.1)\n",
      "Requirement already satisfied: typing-extensions>=4.1.1 in c:\\users\\shiva\\anaconda3\\lib\\site-packages (from dash) (4.11.0)\n",
      "Requirement already satisfied: requests in c:\\users\\shiva\\anaconda3\\lib\\site-packages (from dash) (2.32.2)\n",
      "Requirement already satisfied: retrying in c:\\users\\shiva\\anaconda3\\lib\\site-packages (from dash) (1.3.4)\n",
      "Requirement already satisfied: nest-asyncio in c:\\users\\shiva\\appdata\\roaming\\python\\python312\\site-packages (from dash) (1.6.0)\n",
      "Requirement already satisfied: setuptools in c:\\users\\shiva\\anaconda3\\lib\\site-packages (from dash) (69.5.1)\n",
      "Requirement already satisfied: Jinja2>=3.1.2 in c:\\users\\shiva\\anaconda3\\lib\\site-packages (from Flask<3.1,>=1.0.4->dash) (3.1.4)\n",
      "Requirement already satisfied: itsdangerous>=2.1.2 in c:\\users\\shiva\\anaconda3\\lib\\site-packages (from Flask<3.1,>=1.0.4->dash) (2.2.0)\n",
      "Requirement already satisfied: click>=8.1.3 in c:\\users\\shiva\\anaconda3\\lib\\site-packages (from Flask<3.1,>=1.0.4->dash) (8.1.7)\n",
      "Requirement already satisfied: blinker>=1.6.2 in c:\\users\\shiva\\anaconda3\\lib\\site-packages (from Flask<3.1,>=1.0.4->dash) (1.6.2)\n",
      "Requirement already satisfied: tenacity>=6.2.0 in c:\\users\\shiva\\anaconda3\\lib\\site-packages (from plotly>=5.0.0->dash) (8.2.2)\n",
      "Requirement already satisfied: packaging in c:\\users\\shiva\\appdata\\roaming\\python\\python312\\site-packages (from plotly>=5.0.0->dash) (24.1)\n",
      "Requirement already satisfied: MarkupSafe>=2.1.1 in c:\\users\\shiva\\anaconda3\\lib\\site-packages (from Werkzeug<3.1->dash) (2.1.3)\n",
      "Requirement already satisfied: zipp>=0.5 in c:\\users\\shiva\\anaconda3\\lib\\site-packages (from importlib-metadata->dash) (3.17.0)\n",
      "Requirement already satisfied: charset-normalizer<4,>=2 in c:\\users\\shiva\\anaconda3\\lib\\site-packages (from requests->dash) (2.0.4)\n",
      "Requirement already satisfied: idna<4,>=2.5 in c:\\users\\shiva\\anaconda3\\lib\\site-packages (from requests->dash) (3.7)\n",
      "Requirement already satisfied: urllib3<3,>=1.21.1 in c:\\users\\shiva\\anaconda3\\lib\\site-packages (from requests->dash) (2.2.2)\n",
      "Requirement already satisfied: certifi>=2017.4.17 in c:\\users\\shiva\\anaconda3\\lib\\site-packages (from requests->dash) (2024.6.2)\n",
      "Requirement already satisfied: six>=1.7.0 in c:\\users\\shiva\\appdata\\roaming\\python\\python312\\site-packages (from retrying->dash) (1.16.0)\n",
      "Requirement already satisfied: colorama in c:\\users\\shiva\\appdata\\roaming\\python\\python312\\site-packages (from click>=8.1.3->Flask<3.1,>=1.0.4->dash) (0.4.6)\n",
      "Note: you may need to restart the kernel to use updated packages.\n"
     ]
    }
   ],
   "source": [
    "pip install dash"
   ]
  },
  {
   "cell_type": "code",
   "execution_count": 42,
   "id": "45bdb754-925d-400b-bd15-52155fa619a2",
   "metadata": {},
   "outputs": [
    {
     "name": "stdout",
     "output_type": "stream",
     "text": [
      "Requirement already satisfied: jupyter_dash in c:\\users\\shiva\\anaconda3\\lib\\site-packages (0.4.2)Note: you may need to restart the kernel to use updated packages.\n",
      "\n",
      "Requirement already satisfied: dash in c:\\users\\shiva\\anaconda3\\lib\\site-packages (from jupyter_dash) (2.18.2)\n",
      "Requirement already satisfied: requests in c:\\users\\shiva\\anaconda3\\lib\\site-packages (from jupyter_dash) (2.32.2)\n",
      "Requirement already satisfied: flask in c:\\users\\shiva\\anaconda3\\lib\\site-packages (from jupyter_dash) (3.0.3)\n",
      "Requirement already satisfied: retrying in c:\\users\\shiva\\anaconda3\\lib\\site-packages (from jupyter_dash) (1.3.4)\n",
      "Requirement already satisfied: ipython in c:\\users\\shiva\\appdata\\roaming\\python\\python312\\site-packages (from jupyter_dash) (8.26.0)\n",
      "Requirement already satisfied: ipykernel in c:\\users\\shiva\\appdata\\roaming\\python\\python312\\site-packages (from jupyter_dash) (6.29.5)\n",
      "Requirement already satisfied: ansi2html in c:\\users\\shiva\\anaconda3\\lib\\site-packages (from jupyter_dash) (1.9.2)\n",
      "Requirement already satisfied: nest-asyncio in c:\\users\\shiva\\appdata\\roaming\\python\\python312\\site-packages (from jupyter_dash) (1.6.0)\n",
      "Requirement already satisfied: Werkzeug<3.1 in c:\\users\\shiva\\anaconda3\\lib\\site-packages (from dash->jupyter_dash) (3.0.3)\n",
      "Requirement already satisfied: plotly>=5.0.0 in c:\\users\\shiva\\anaconda3\\lib\\site-packages (from dash->jupyter_dash) (5.22.0)\n",
      "Requirement already satisfied: dash-html-components==2.0.0 in c:\\users\\shiva\\anaconda3\\lib\\site-packages (from dash->jupyter_dash) (2.0.0)\n",
      "Requirement already satisfied: dash-core-components==2.0.0 in c:\\users\\shiva\\anaconda3\\lib\\site-packages (from dash->jupyter_dash) (2.0.0)\n",
      "Requirement already satisfied: dash-table==5.0.0 in c:\\users\\shiva\\anaconda3\\lib\\site-packages (from dash->jupyter_dash) (5.0.0)\n",
      "Requirement already satisfied: importlib-metadata in c:\\users\\shiva\\anaconda3\\lib\\site-packages (from dash->jupyter_dash) (7.0.1)\n",
      "Requirement already satisfied: typing-extensions>=4.1.1 in c:\\users\\shiva\\anaconda3\\lib\\site-packages (from dash->jupyter_dash) (4.11.0)\n",
      "Requirement already satisfied: setuptools in c:\\users\\shiva\\anaconda3\\lib\\site-packages (from dash->jupyter_dash) (69.5.1)\n",
      "Requirement already satisfied: Jinja2>=3.1.2 in c:\\users\\shiva\\anaconda3\\lib\\site-packages (from flask->jupyter_dash) (3.1.4)\n",
      "Requirement already satisfied: itsdangerous>=2.1.2 in c:\\users\\shiva\\anaconda3\\lib\\site-packages (from flask->jupyter_dash) (2.2.0)\n",
      "Requirement already satisfied: click>=8.1.3 in c:\\users\\shiva\\anaconda3\\lib\\site-packages (from flask->jupyter_dash) (8.1.7)\n",
      "Requirement already satisfied: blinker>=1.6.2 in c:\\users\\shiva\\anaconda3\\lib\\site-packages (from flask->jupyter_dash) (1.6.2)\n",
      "Requirement already satisfied: comm>=0.1.1 in c:\\users\\shiva\\appdata\\roaming\\python\\python312\\site-packages (from ipykernel->jupyter_dash) (0.2.2)\n",
      "Requirement already satisfied: debugpy>=1.6.5 in c:\\users\\shiva\\appdata\\roaming\\python\\python312\\site-packages (from ipykernel->jupyter_dash) (1.8.2)\n",
      "Requirement already satisfied: jupyter-client>=6.1.12 in c:\\users\\shiva\\appdata\\roaming\\python\\python312\\site-packages (from ipykernel->jupyter_dash) (8.6.2)\n",
      "Requirement already satisfied: jupyter-core!=5.0.*,>=4.12 in c:\\users\\shiva\\appdata\\roaming\\python\\python312\\site-packages (from ipykernel->jupyter_dash) (5.7.2)\n",
      "Requirement already satisfied: matplotlib-inline>=0.1 in c:\\users\\shiva\\appdata\\roaming\\python\\python312\\site-packages (from ipykernel->jupyter_dash) (0.1.7)\n",
      "Requirement already satisfied: packaging in c:\\users\\shiva\\appdata\\roaming\\python\\python312\\site-packages (from ipykernel->jupyter_dash) (24.1)\n",
      "Requirement already satisfied: psutil in c:\\users\\shiva\\appdata\\roaming\\python\\python312\\site-packages (from ipykernel->jupyter_dash) (6.0.0)\n",
      "Requirement already satisfied: pyzmq>=24 in c:\\users\\shiva\\appdata\\roaming\\python\\python312\\site-packages (from ipykernel->jupyter_dash) (26.0.3)\n",
      "Requirement already satisfied: tornado>=6.1 in c:\\users\\shiva\\appdata\\roaming\\python\\python312\\site-packages (from ipykernel->jupyter_dash) (6.4.1)\n",
      "Requirement already satisfied: traitlets>=5.4.0 in c:\\users\\shiva\\appdata\\roaming\\python\\python312\\site-packages (from ipykernel->jupyter_dash) (5.14.3)\n",
      "Requirement already satisfied: decorator in c:\\users\\shiva\\appdata\\roaming\\python\\python312\\site-packages (from ipython->jupyter_dash) (5.1.1)\n",
      "Requirement already satisfied: jedi>=0.16 in c:\\users\\shiva\\appdata\\roaming\\python\\python312\\site-packages (from ipython->jupyter_dash) (0.19.1)\n",
      "Requirement already satisfied: prompt-toolkit<3.1.0,>=3.0.41 in c:\\users\\shiva\\appdata\\roaming\\python\\python312\\site-packages (from ipython->jupyter_dash) (3.0.47)\n",
      "Requirement already satisfied: pygments>=2.4.0 in c:\\users\\shiva\\appdata\\roaming\\python\\python312\\site-packages (from ipython->jupyter_dash) (2.18.0)\n",
      "Requirement already satisfied: stack-data in c:\\users\\shiva\\appdata\\roaming\\python\\python312\\site-packages (from ipython->jupyter_dash) (0.6.3)\n",
      "Requirement already satisfied: colorama in c:\\users\\shiva\\appdata\\roaming\\python\\python312\\site-packages (from ipython->jupyter_dash) (0.4.6)\n",
      "Requirement already satisfied: charset-normalizer<4,>=2 in c:\\users\\shiva\\anaconda3\\lib\\site-packages (from requests->jupyter_dash) (2.0.4)\n",
      "Requirement already satisfied: idna<4,>=2.5 in c:\\users\\shiva\\anaconda3\\lib\\site-packages (from requests->jupyter_dash) (3.7)\n",
      "Requirement already satisfied: urllib3<3,>=1.21.1 in c:\\users\\shiva\\anaconda3\\lib\\site-packages (from requests->jupyter_dash) (2.2.2)\n",
      "Requirement already satisfied: certifi>=2017.4.17 in c:\\users\\shiva\\anaconda3\\lib\\site-packages (from requests->jupyter_dash) (2024.6.2)\n",
      "Requirement already satisfied: six>=1.7.0 in c:\\users\\shiva\\appdata\\roaming\\python\\python312\\site-packages (from retrying->jupyter_dash) (1.16.0)\n",
      "Requirement already satisfied: parso<0.9.0,>=0.8.3 in c:\\users\\shiva\\appdata\\roaming\\python\\python312\\site-packages (from jedi>=0.16->ipython->jupyter_dash) (0.8.4)\n",
      "Requirement already satisfied: MarkupSafe>=2.0 in c:\\users\\shiva\\anaconda3\\lib\\site-packages (from Jinja2>=3.1.2->flask->jupyter_dash) (2.1.3)\n",
      "Requirement already satisfied: python-dateutil>=2.8.2 in c:\\users\\shiva\\anaconda3\\lib\\site-packages (from jupyter-client>=6.1.12->ipykernel->jupyter_dash) (2.9.0.post0)\n",
      "Requirement already satisfied: platformdirs>=2.5 in c:\\users\\shiva\\anaconda3\\lib\\site-packages (from jupyter-core!=5.0.*,>=4.12->ipykernel->jupyter_dash) (3.10.0)\n",
      "Requirement already satisfied: pywin32>=300 in c:\\users\\shiva\\appdata\\roaming\\python\\python312\\site-packages (from jupyter-core!=5.0.*,>=4.12->ipykernel->jupyter_dash) (306)\n",
      "Requirement already satisfied: tenacity>=6.2.0 in c:\\users\\shiva\\anaconda3\\lib\\site-packages (from plotly>=5.0.0->dash->jupyter_dash) (8.2.2)\n",
      "Requirement already satisfied: wcwidth in c:\\users\\shiva\\appdata\\roaming\\python\\python312\\site-packages (from prompt-toolkit<3.1.0,>=3.0.41->ipython->jupyter_dash) (0.2.13)\n",
      "Requirement already satisfied: zipp>=0.5 in c:\\users\\shiva\\anaconda3\\lib\\site-packages (from importlib-metadata->dash->jupyter_dash) (3.17.0)\n",
      "Requirement already satisfied: executing>=1.2.0 in c:\\users\\shiva\\anaconda3\\lib\\site-packages (from stack-data->ipython->jupyter_dash) (2.2.0)\n",
      "Requirement already satisfied: asttokens>=2.1.0 in c:\\users\\shiva\\appdata\\roaming\\python\\python312\\site-packages (from stack-data->ipython->jupyter_dash) (2.4.1)\n",
      "Requirement already satisfied: pure-eval in c:\\users\\shiva\\appdata\\roaming\\python\\python312\\site-packages (from stack-data->ipython->jupyter_dash) (0.2.3)\n"
     ]
    }
   ],
   "source": [
    "pip install jupyter_dash"
   ]
  },
  {
   "cell_type": "code",
   "execution_count": 43,
   "id": "d2805087-6994-43e6-a260-73bf735bf28b",
   "metadata": {},
   "outputs": [],
   "source": [
    "import numpy as np\n",
    "import pandas as pd\n",
    "import seaborn as sns\n",
    "import matplotlib.pyplot as plt\n",
    "import dash\n",
    "from dash import dcc, html\n",
    "import plotly.express as px\n",
    "import plotly.graph_objects as go"
   ]
  },
  {
   "cell_type": "markdown",
   "id": "5eccda6e-506d-4d65-bca4-9a3bad9b8173",
   "metadata": {},
   "source": [
    "# Loading the Datasets"
   ]
  },
  {
   "cell_type": "code",
   "execution_count": 7,
   "id": "2c000518-c90d-4652-a2f4-f769d2d316e5",
   "metadata": {},
   "outputs": [],
   "source": [
    "purchase_data = pd.read_csv(\"purchase_behaviour.csv\")\n",
    "transaction_data = pd.read_csv(\"transaction_data.csv\")"
   ]
  },
  {
   "cell_type": "code",
   "execution_count": 8,
   "id": "85aa07f9-b5e8-4f3b-a84a-7abfd62ac829",
   "metadata": {},
   "outputs": [
    {
     "data": {
      "text/html": [
       "<div>\n",
       "<style scoped>\n",
       "    .dataframe tbody tr th:only-of-type {\n",
       "        vertical-align: middle;\n",
       "    }\n",
       "\n",
       "    .dataframe tbody tr th {\n",
       "        vertical-align: top;\n",
       "    }\n",
       "\n",
       "    .dataframe thead th {\n",
       "        text-align: right;\n",
       "    }\n",
       "</style>\n",
       "<table border=\"1\" class=\"dataframe\">\n",
       "  <thead>\n",
       "    <tr style=\"text-align: right;\">\n",
       "      <th></th>\n",
       "      <th>LYLTY_CARD_NBR</th>\n",
       "      <th>LIFESTAGE</th>\n",
       "      <th>PREMIUM_CUSTOMER</th>\n",
       "    </tr>\n",
       "  </thead>\n",
       "  <tbody>\n",
       "    <tr>\n",
       "      <th>0</th>\n",
       "      <td>1000</td>\n",
       "      <td>YOUNG SINGLES/COUPLES</td>\n",
       "      <td>Premium</td>\n",
       "    </tr>\n",
       "    <tr>\n",
       "      <th>1</th>\n",
       "      <td>1002</td>\n",
       "      <td>YOUNG SINGLES/COUPLES</td>\n",
       "      <td>Mainstream</td>\n",
       "    </tr>\n",
       "    <tr>\n",
       "      <th>2</th>\n",
       "      <td>1003</td>\n",
       "      <td>YOUNG FAMILIES</td>\n",
       "      <td>Budget</td>\n",
       "    </tr>\n",
       "    <tr>\n",
       "      <th>3</th>\n",
       "      <td>1004</td>\n",
       "      <td>OLDER SINGLES/COUPLES</td>\n",
       "      <td>Mainstream</td>\n",
       "    </tr>\n",
       "    <tr>\n",
       "      <th>4</th>\n",
       "      <td>1005</td>\n",
       "      <td>MIDAGE SINGLES/COUPLES</td>\n",
       "      <td>Mainstream</td>\n",
       "    </tr>\n",
       "  </tbody>\n",
       "</table>\n",
       "</div>"
      ],
      "text/plain": [
       "   LYLTY_CARD_NBR               LIFESTAGE PREMIUM_CUSTOMER\n",
       "0            1000   YOUNG SINGLES/COUPLES          Premium\n",
       "1            1002   YOUNG SINGLES/COUPLES       Mainstream\n",
       "2            1003          YOUNG FAMILIES           Budget\n",
       "3            1004   OLDER SINGLES/COUPLES       Mainstream\n",
       "4            1005  MIDAGE SINGLES/COUPLES       Mainstream"
      ]
     },
     "execution_count": 8,
     "metadata": {},
     "output_type": "execute_result"
    }
   ],
   "source": [
    "purchase_data.head()"
   ]
  },
  {
   "cell_type": "code",
   "execution_count": 9,
   "id": "208660b1-4662-4f12-bc65-7c039393af2d",
   "metadata": {},
   "outputs": [
    {
     "data": {
      "text/html": [
       "<div>\n",
       "<style scoped>\n",
       "    .dataframe tbody tr th:only-of-type {\n",
       "        vertical-align: middle;\n",
       "    }\n",
       "\n",
       "    .dataframe tbody tr th {\n",
       "        vertical-align: top;\n",
       "    }\n",
       "\n",
       "    .dataframe thead th {\n",
       "        text-align: right;\n",
       "    }\n",
       "</style>\n",
       "<table border=\"1\" class=\"dataframe\">\n",
       "  <thead>\n",
       "    <tr style=\"text-align: right;\">\n",
       "      <th></th>\n",
       "      <th>DATE</th>\n",
       "      <th>STORE_NBR</th>\n",
       "      <th>LYLTY_CARD_NBR</th>\n",
       "      <th>TXN_ID</th>\n",
       "      <th>PROD_NBR</th>\n",
       "      <th>PROD_NAME</th>\n",
       "      <th>PROD_QTY</th>\n",
       "      <th>TOT_SALES</th>\n",
       "    </tr>\n",
       "  </thead>\n",
       "  <tbody>\n",
       "    <tr>\n",
       "      <th>0</th>\n",
       "      <td>43390</td>\n",
       "      <td>1</td>\n",
       "      <td>1000</td>\n",
       "      <td>1</td>\n",
       "      <td>5</td>\n",
       "      <td>Natural Chip        Compny SeaSalt175g</td>\n",
       "      <td>2</td>\n",
       "      <td>6.0</td>\n",
       "    </tr>\n",
       "    <tr>\n",
       "      <th>1</th>\n",
       "      <td>43599</td>\n",
       "      <td>1</td>\n",
       "      <td>1307</td>\n",
       "      <td>348</td>\n",
       "      <td>66</td>\n",
       "      <td>CCs Nacho Cheese    175g</td>\n",
       "      <td>3</td>\n",
       "      <td>6.3</td>\n",
       "    </tr>\n",
       "    <tr>\n",
       "      <th>2</th>\n",
       "      <td>43605</td>\n",
       "      <td>1</td>\n",
       "      <td>1343</td>\n",
       "      <td>383</td>\n",
       "      <td>61</td>\n",
       "      <td>Smiths Crinkle Cut  Chips Chicken 170g</td>\n",
       "      <td>2</td>\n",
       "      <td>2.9</td>\n",
       "    </tr>\n",
       "    <tr>\n",
       "      <th>3</th>\n",
       "      <td>43329</td>\n",
       "      <td>2</td>\n",
       "      <td>2373</td>\n",
       "      <td>974</td>\n",
       "      <td>69</td>\n",
       "      <td>Smiths Chip Thinly  S/Cream&amp;Onion 175g</td>\n",
       "      <td>5</td>\n",
       "      <td>15.0</td>\n",
       "    </tr>\n",
       "    <tr>\n",
       "      <th>4</th>\n",
       "      <td>43330</td>\n",
       "      <td>2</td>\n",
       "      <td>2426</td>\n",
       "      <td>1038</td>\n",
       "      <td>108</td>\n",
       "      <td>Kettle Tortilla ChpsHny&amp;Jlpno Chili 150g</td>\n",
       "      <td>3</td>\n",
       "      <td>13.8</td>\n",
       "    </tr>\n",
       "  </tbody>\n",
       "</table>\n",
       "</div>"
      ],
      "text/plain": [
       "    DATE  STORE_NBR  LYLTY_CARD_NBR  TXN_ID  PROD_NBR  \\\n",
       "0  43390          1            1000       1         5   \n",
       "1  43599          1            1307     348        66   \n",
       "2  43605          1            1343     383        61   \n",
       "3  43329          2            2373     974        69   \n",
       "4  43330          2            2426    1038       108   \n",
       "\n",
       "                                  PROD_NAME  PROD_QTY  TOT_SALES  \n",
       "0    Natural Chip        Compny SeaSalt175g         2        6.0  \n",
       "1                  CCs Nacho Cheese    175g         3        6.3  \n",
       "2    Smiths Crinkle Cut  Chips Chicken 170g         2        2.9  \n",
       "3    Smiths Chip Thinly  S/Cream&Onion 175g         5       15.0  \n",
       "4  Kettle Tortilla ChpsHny&Jlpno Chili 150g         3       13.8  "
      ]
     },
     "execution_count": 9,
     "metadata": {},
     "output_type": "execute_result"
    }
   ],
   "source": [
    "transaction_data.head()"
   ]
  },
  {
   "cell_type": "markdown",
   "id": "dff7a678-fac3-4b8c-be99-a75b71b458af",
   "metadata": {},
   "source": [
    "## Here, merging both the files on LYLTY_CARD_NBR"
   ]
  },
  {
   "cell_type": "code",
   "execution_count": 11,
   "id": "605e93fd-5468-4554-b510-f1575586e65b",
   "metadata": {},
   "outputs": [],
   "source": [
    "merged_df = transaction_data.merge(purchase_data, on=\"LYLTY_CARD_NBR\",how=\"inner\")"
   ]
  },
  {
   "cell_type": "code",
   "execution_count": 18,
   "id": "3c8a5d36-3ecd-409b-ac0c-4788e8d6f8c5",
   "metadata": {},
   "outputs": [
    {
     "data": {
      "text/html": [
       "<div>\n",
       "<style scoped>\n",
       "    .dataframe tbody tr th:only-of-type {\n",
       "        vertical-align: middle;\n",
       "    }\n",
       "\n",
       "    .dataframe tbody tr th {\n",
       "        vertical-align: top;\n",
       "    }\n",
       "\n",
       "    .dataframe thead th {\n",
       "        text-align: right;\n",
       "    }\n",
       "</style>\n",
       "<table border=\"1\" class=\"dataframe\">\n",
       "  <thead>\n",
       "    <tr style=\"text-align: right;\">\n",
       "      <th></th>\n",
       "      <th>DATE</th>\n",
       "      <th>STORE_NBR</th>\n",
       "      <th>LYLTY_CARD_NBR</th>\n",
       "      <th>TXN_ID</th>\n",
       "      <th>PROD_NBR</th>\n",
       "      <th>PROD_NAME</th>\n",
       "      <th>PROD_QTY</th>\n",
       "      <th>TOT_SALES</th>\n",
       "      <th>LIFESTAGE</th>\n",
       "      <th>PREMIUM_CUSTOMER</th>\n",
       "    </tr>\n",
       "  </thead>\n",
       "  <tbody>\n",
       "    <tr>\n",
       "      <th>0</th>\n",
       "      <td>43390</td>\n",
       "      <td>1</td>\n",
       "      <td>1000</td>\n",
       "      <td>1</td>\n",
       "      <td>5</td>\n",
       "      <td>Natural Chip        Compny SeaSalt175g</td>\n",
       "      <td>2</td>\n",
       "      <td>6.0</td>\n",
       "      <td>YOUNG SINGLES/COUPLES</td>\n",
       "      <td>Premium</td>\n",
       "    </tr>\n",
       "    <tr>\n",
       "      <th>1</th>\n",
       "      <td>43599</td>\n",
       "      <td>1</td>\n",
       "      <td>1307</td>\n",
       "      <td>348</td>\n",
       "      <td>66</td>\n",
       "      <td>CCs Nacho Cheese    175g</td>\n",
       "      <td>3</td>\n",
       "      <td>6.3</td>\n",
       "      <td>MIDAGE SINGLES/COUPLES</td>\n",
       "      <td>Budget</td>\n",
       "    </tr>\n",
       "    <tr>\n",
       "      <th>2</th>\n",
       "      <td>43605</td>\n",
       "      <td>1</td>\n",
       "      <td>1343</td>\n",
       "      <td>383</td>\n",
       "      <td>61</td>\n",
       "      <td>Smiths Crinkle Cut  Chips Chicken 170g</td>\n",
       "      <td>2</td>\n",
       "      <td>2.9</td>\n",
       "      <td>MIDAGE SINGLES/COUPLES</td>\n",
       "      <td>Budget</td>\n",
       "    </tr>\n",
       "    <tr>\n",
       "      <th>3</th>\n",
       "      <td>43329</td>\n",
       "      <td>2</td>\n",
       "      <td>2373</td>\n",
       "      <td>974</td>\n",
       "      <td>69</td>\n",
       "      <td>Smiths Chip Thinly  S/Cream&amp;Onion 175g</td>\n",
       "      <td>5</td>\n",
       "      <td>15.0</td>\n",
       "      <td>MIDAGE SINGLES/COUPLES</td>\n",
       "      <td>Budget</td>\n",
       "    </tr>\n",
       "    <tr>\n",
       "      <th>4</th>\n",
       "      <td>43330</td>\n",
       "      <td>2</td>\n",
       "      <td>2426</td>\n",
       "      <td>1038</td>\n",
       "      <td>108</td>\n",
       "      <td>Kettle Tortilla ChpsHny&amp;Jlpno Chili 150g</td>\n",
       "      <td>3</td>\n",
       "      <td>13.8</td>\n",
       "      <td>MIDAGE SINGLES/COUPLES</td>\n",
       "      <td>Budget</td>\n",
       "    </tr>\n",
       "  </tbody>\n",
       "</table>\n",
       "</div>"
      ],
      "text/plain": [
       "    DATE  STORE_NBR  LYLTY_CARD_NBR  TXN_ID  PROD_NBR  \\\n",
       "0  43390          1            1000       1         5   \n",
       "1  43599          1            1307     348        66   \n",
       "2  43605          1            1343     383        61   \n",
       "3  43329          2            2373     974        69   \n",
       "4  43330          2            2426    1038       108   \n",
       "\n",
       "                                  PROD_NAME  PROD_QTY  TOT_SALES  \\\n",
       "0    Natural Chip        Compny SeaSalt175g         2        6.0   \n",
       "1                  CCs Nacho Cheese    175g         3        6.3   \n",
       "2    Smiths Crinkle Cut  Chips Chicken 170g         2        2.9   \n",
       "3    Smiths Chip Thinly  S/Cream&Onion 175g         5       15.0   \n",
       "4  Kettle Tortilla ChpsHny&Jlpno Chili 150g         3       13.8   \n",
       "\n",
       "                LIFESTAGE PREMIUM_CUSTOMER  \n",
       "0   YOUNG SINGLES/COUPLES          Premium  \n",
       "1  MIDAGE SINGLES/COUPLES           Budget  \n",
       "2  MIDAGE SINGLES/COUPLES           Budget  \n",
       "3  MIDAGE SINGLES/COUPLES           Budget  \n",
       "4  MIDAGE SINGLES/COUPLES           Budget  "
      ]
     },
     "execution_count": 18,
     "metadata": {},
     "output_type": "execute_result"
    }
   ],
   "source": [
    "merged_df.head()"
   ]
  },
  {
   "cell_type": "code",
   "execution_count": 14,
   "id": "c6739446-ff39-4d35-9e79-ba18aaf126c6",
   "metadata": {},
   "outputs": [
    {
     "name": "stdout",
     "output_type": "stream",
     "text": [
      "<class 'pandas.core.frame.DataFrame'>\n",
      "RangeIndex: 264836 entries, 0 to 264835\n",
      "Data columns (total 10 columns):\n",
      " #   Column            Non-Null Count   Dtype  \n",
      "---  ------            --------------   -----  \n",
      " 0   DATE              264836 non-null  int64  \n",
      " 1   STORE_NBR         264836 non-null  int64  \n",
      " 2   LYLTY_CARD_NBR    264836 non-null  int64  \n",
      " 3   TXN_ID            264836 non-null  int64  \n",
      " 4   PROD_NBR          264836 non-null  int64  \n",
      " 5   PROD_NAME         264836 non-null  object \n",
      " 6   PROD_QTY          264836 non-null  int64  \n",
      " 7   TOT_SALES         264836 non-null  float64\n",
      " 8   LIFESTAGE         264836 non-null  object \n",
      " 9   PREMIUM_CUSTOMER  264836 non-null  object \n",
      "dtypes: float64(1), int64(6), object(3)\n",
      "memory usage: 20.2+ MB\n"
     ]
    }
   ],
   "source": [
    "merged_df.info()"
   ]
  },
  {
   "cell_type": "code",
   "execution_count": 15,
   "id": "e3caf616-8712-47fe-86d1-649070441108",
   "metadata": {},
   "outputs": [
    {
     "data": {
      "text/plain": [
       "(264836, 10)"
      ]
     },
     "execution_count": 15,
     "metadata": {},
     "output_type": "execute_result"
    }
   ],
   "source": [
    "merged_df.shape"
   ]
  },
  {
   "cell_type": "markdown",
   "id": "6906b6b2-76a3-4c9b-931d-8fa801139eab",
   "metadata": {},
   "source": [
    "# Inferences\n",
    "* The dataset consists of 264836 entries and 10 columns.\n",
    "\n",
    ">> Brief overview of each column:\n",
    "\n",
    "* DATE - The date of transaction being made or order being placed.\n",
    "\n",
    "* STORE_NBR - The store associated to a particular Order.\n",
    "\n",
    "* LYLTY_CARD_NBR - A Unique Loayality Card Identification Number\n",
    "\n",
    "* TXN_ID - Transactional ID\n",
    "\n",
    "* PROD_NBR - Serial Number Of the product.\n",
    "\n",
    "* PROD_NAME - Name of the product.\n",
    "\n",
    "* PROD_QTY - The Quantity Of products being placed at a single order.\n",
    "\n",
    "* TOT_SALES - The total number of sales for a particular product.\n",
    "\n",
    "* LIFESTAGE - The Age Group Of the customers.\n",
    "\n",
    "* PREMIUM_CUSTOMER - From which group a customer belongs to - Budget, Mainstream or Premium.s.d to be addressed."
   ]
  },
  {
   "cell_type": "markdown",
   "id": "3b9a77e0-9d74-45f3-bf71-b3102504dbd2",
   "metadata": {},
   "source": [
    "## Summary Statistics\n",
    "* Generating summary statistics to gain initial insights into the data distribution:"
   ]
  },
  {
   "cell_type": "code",
   "execution_count": 19,
   "id": "40bfa346-9c8c-48ce-99ff-299a10d81e9c",
   "metadata": {},
   "outputs": [
    {
     "data": {
      "text/html": [
       "<div>\n",
       "<style scoped>\n",
       "    .dataframe tbody tr th:only-of-type {\n",
       "        vertical-align: middle;\n",
       "    }\n",
       "\n",
       "    .dataframe tbody tr th {\n",
       "        vertical-align: top;\n",
       "    }\n",
       "\n",
       "    .dataframe thead th {\n",
       "        text-align: right;\n",
       "    }\n",
       "</style>\n",
       "<table border=\"1\" class=\"dataframe\">\n",
       "  <thead>\n",
       "    <tr style=\"text-align: right;\">\n",
       "      <th></th>\n",
       "      <th>count</th>\n",
       "      <th>mean</th>\n",
       "      <th>std</th>\n",
       "      <th>min</th>\n",
       "      <th>25%</th>\n",
       "      <th>50%</th>\n",
       "      <th>75%</th>\n",
       "      <th>max</th>\n",
       "    </tr>\n",
       "  </thead>\n",
       "  <tbody>\n",
       "    <tr>\n",
       "      <th>DATE</th>\n",
       "      <td>264836.0</td>\n",
       "      <td>43464.036260</td>\n",
       "      <td>105.389282</td>\n",
       "      <td>43282.0</td>\n",
       "      <td>43373.0</td>\n",
       "      <td>43464.0</td>\n",
       "      <td>43555.00</td>\n",
       "      <td>43646.0</td>\n",
       "    </tr>\n",
       "    <tr>\n",
       "      <th>STORE_NBR</th>\n",
       "      <td>264836.0</td>\n",
       "      <td>135.080110</td>\n",
       "      <td>76.784180</td>\n",
       "      <td>1.0</td>\n",
       "      <td>70.0</td>\n",
       "      <td>130.0</td>\n",
       "      <td>203.00</td>\n",
       "      <td>272.0</td>\n",
       "    </tr>\n",
       "    <tr>\n",
       "      <th>LYLTY_CARD_NBR</th>\n",
       "      <td>264836.0</td>\n",
       "      <td>135549.476404</td>\n",
       "      <td>80579.978022</td>\n",
       "      <td>1000.0</td>\n",
       "      <td>70021.0</td>\n",
       "      <td>130357.5</td>\n",
       "      <td>203094.25</td>\n",
       "      <td>2373711.0</td>\n",
       "    </tr>\n",
       "    <tr>\n",
       "      <th>TXN_ID</th>\n",
       "      <td>264836.0</td>\n",
       "      <td>135158.310815</td>\n",
       "      <td>78133.026026</td>\n",
       "      <td>1.0</td>\n",
       "      <td>67601.5</td>\n",
       "      <td>135137.5</td>\n",
       "      <td>202701.25</td>\n",
       "      <td>2415841.0</td>\n",
       "    </tr>\n",
       "    <tr>\n",
       "      <th>PROD_NBR</th>\n",
       "      <td>264836.0</td>\n",
       "      <td>56.583157</td>\n",
       "      <td>32.826638</td>\n",
       "      <td>1.0</td>\n",
       "      <td>28.0</td>\n",
       "      <td>56.0</td>\n",
       "      <td>85.00</td>\n",
       "      <td>114.0</td>\n",
       "    </tr>\n",
       "    <tr>\n",
       "      <th>PROD_QTY</th>\n",
       "      <td>264836.0</td>\n",
       "      <td>1.907309</td>\n",
       "      <td>0.643654</td>\n",
       "      <td>1.0</td>\n",
       "      <td>2.0</td>\n",
       "      <td>2.0</td>\n",
       "      <td>2.00</td>\n",
       "      <td>200.0</td>\n",
       "    </tr>\n",
       "    <tr>\n",
       "      <th>TOT_SALES</th>\n",
       "      <td>264836.0</td>\n",
       "      <td>7.304200</td>\n",
       "      <td>3.083226</td>\n",
       "      <td>1.5</td>\n",
       "      <td>5.4</td>\n",
       "      <td>7.4</td>\n",
       "      <td>9.20</td>\n",
       "      <td>650.0</td>\n",
       "    </tr>\n",
       "  </tbody>\n",
       "</table>\n",
       "</div>"
      ],
      "text/plain": [
       "                   count           mean           std      min      25%  \\\n",
       "DATE            264836.0   43464.036260    105.389282  43282.0  43373.0   \n",
       "STORE_NBR       264836.0     135.080110     76.784180      1.0     70.0   \n",
       "LYLTY_CARD_NBR  264836.0  135549.476404  80579.978022   1000.0  70021.0   \n",
       "TXN_ID          264836.0  135158.310815  78133.026026      1.0  67601.5   \n",
       "PROD_NBR        264836.0      56.583157     32.826638      1.0     28.0   \n",
       "PROD_QTY        264836.0       1.907309      0.643654      1.0      2.0   \n",
       "TOT_SALES       264836.0       7.304200      3.083226      1.5      5.4   \n",
       "\n",
       "                     50%        75%        max  \n",
       "DATE             43464.0   43555.00    43646.0  \n",
       "STORE_NBR          130.0     203.00      272.0  \n",
       "LYLTY_CARD_NBR  130357.5  203094.25  2373711.0  \n",
       "TXN_ID          135137.5  202701.25  2415841.0  \n",
       "PROD_NBR            56.0      85.00      114.0  \n",
       "PROD_QTY             2.0       2.00      200.0  \n",
       "TOT_SALES            7.4       9.20      650.0  "
      ]
     },
     "execution_count": 19,
     "metadata": {},
     "output_type": "execute_result"
    }
   ],
   "source": [
    "# Summary statistics for numerical variables\n",
    "merged_df.describe().T"
   ]
  },
  {
   "cell_type": "markdown",
   "id": "7ea9dbe4-24e1-4f4f-847c-c449644f7961",
   "metadata": {},
   "source": [
    "## Statistical Inference\r\n",
    "\r\n",
    "### 1. DATE:\r\n",
    "- The transactions span from a minimum date of **43282** to a maximum date of **43646**.\r\n",
    "- The **mean transaction date** is approximately **43464**, with a standard deviation of **105.39 days**.\r\n",
    "- Transactions are distributed across the time period, with **25% of transactions occurring before 43373** and **75% occurring before 43555**.\r\n",
    "\r\n",
    "### 2. STORE_NBR:\r\n",
    "- Transactions occurred across **272 different store numbers**.\r\n",
    "- The **mean store number** for transactions is approximately **135**, with a standard deviation of **76.78**.\r\n",
    "- Store numbers range from **1 to 272**, indicating coverage across a wide range of stores.\r\n",
    "\r\n",
    "### 3. LYLTY_CARD_NBR:\r\n",
    "- Transactions involve a diverse range of **loyalty card numbers**, spanning from **1000 to 2373711**.\r\n",
    "- The **average loyalty card number** used in transactions is around **135549**, with a considerable standard deviation of **80579.98**.\r\n",
    "- The **median (50th percentile) is 130357.5**, indicating that half of the transactions involve cards with numbers below this value.\r\n",
    "\r\n",
    "### 4. TXN_ID:\r\n",
    "- Each transaction is uniquely identified by a **transaction ID**.\r\n",
    "- IDs range from **1 to 2415841**, with an **average transaction ID** of approximately **135158** and a standard deviation of **78133.03**.\r\n",
    "- The **median transaction ID is 135137.5**, showing that half of the transactions have IDs below this value.\r\n",
    "\r\n",
    "### 5. PROD_NBR:\r\n",
    "- Products purchased are identified by numbers ranging from **1 to 114**.\r\n",
    "- The **mean product number purchased** is approximately **56.58**, with a standard deviation of **32.83**.\r\n",
    "- The most frequently purchased products are likely around the **median of 56**.\r\n",
    "\r\n",
    "### 6. PROD_QTY:\r\n",
    "- The quantity of products purchased per transaction ranges from **1 to 200**.\r\n",
    "- On average, customers purchase around **1.91 products per transaction**, with a standard deviation of **0.64**.\r\n",
    "- The quantity purchased is typically **2** (**25th, 50th, and 75th percentiles**), indicating that most transactions involve buying **2 products**.\r\n",
    "\r\n",
    "### 7. TOT_SALES:\r\n",
    "- Total sales per transaction range from **1.5 to 650**.\r\n",
    "- The **mean total sales amount per transaction** is approximately **7.30**, with a standard deviation of **3.08**.\r\n",
    "- Sales values are centered around the **median of 7.4**, with **25% of transactions having total sales below 5.4** and **75% having sales below 9.20**.\r\n",
    "\r\n",
    "---\r\n",
    "\r\n",
    "These inferences provide a detailed understanding of the dataset's characteristics, highlighting key statistics and distributions for each variable observed in the transactions.\r\n",
    "\r\n"
   ]
  },
  {
   "cell_type": "code",
   "execution_count": 20,
   "id": "ae79257c-d112-4633-a2fb-17134837f438",
   "metadata": {},
   "outputs": [
    {
     "data": {
      "text/html": [
       "<div>\n",
       "<style scoped>\n",
       "    .dataframe tbody tr th:only-of-type {\n",
       "        vertical-align: middle;\n",
       "    }\n",
       "\n",
       "    .dataframe tbody tr th {\n",
       "        vertical-align: top;\n",
       "    }\n",
       "\n",
       "    .dataframe thead th {\n",
       "        text-align: right;\n",
       "    }\n",
       "</style>\n",
       "<table border=\"1\" class=\"dataframe\">\n",
       "  <thead>\n",
       "    <tr style=\"text-align: right;\">\n",
       "      <th></th>\n",
       "      <th>count</th>\n",
       "      <th>unique</th>\n",
       "      <th>top</th>\n",
       "      <th>freq</th>\n",
       "    </tr>\n",
       "  </thead>\n",
       "  <tbody>\n",
       "    <tr>\n",
       "      <th>PROD_NAME</th>\n",
       "      <td>264836</td>\n",
       "      <td>114</td>\n",
       "      <td>Kettle Mozzarella   Basil &amp; Pesto 175g</td>\n",
       "      <td>3304</td>\n",
       "    </tr>\n",
       "    <tr>\n",
       "      <th>LIFESTAGE</th>\n",
       "      <td>264836</td>\n",
       "      <td>7</td>\n",
       "      <td>OLDER SINGLES/COUPLES</td>\n",
       "      <td>54479</td>\n",
       "    </tr>\n",
       "    <tr>\n",
       "      <th>PREMIUM_CUSTOMER</th>\n",
       "      <td>264836</td>\n",
       "      <td>3</td>\n",
       "      <td>Mainstream</td>\n",
       "      <td>101988</td>\n",
       "    </tr>\n",
       "  </tbody>\n",
       "</table>\n",
       "</div>"
      ],
      "text/plain": [
       "                   count unique                                     top  \\\n",
       "PROD_NAME         264836    114  Kettle Mozzarella   Basil & Pesto 175g   \n",
       "LIFESTAGE         264836      7                   OLDER SINGLES/COUPLES   \n",
       "PREMIUM_CUSTOMER  264836      3                              Mainstream   \n",
       "\n",
       "                    freq  \n",
       "PROD_NAME           3304  \n",
       "LIFESTAGE          54479  \n",
       "PREMIUM_CUSTOMER  101988  "
      ]
     },
     "execution_count": 20,
     "metadata": {},
     "output_type": "execute_result"
    }
   ],
   "source": [
    "# Summary statistics for categorical variables\n",
    "merged_df.describe(include='object').T"
   ]
  },
  {
   "cell_type": "markdown",
   "id": "87e83336-360e-4caf-a1c1-24a32185267f",
   "metadata": {},
   "source": [
    "## Inferences\n",
    "\n",
    "### 1. PROD_NAME (Product Name):\n",
    "- The dataset contains **264,836 transactions** and **114 unique products**.\n",
    "- The most frequently purchased product is **\"Kettle Mozzarella Basil & Pesto 175g\"**, appearing **3,304 times**.\n",
    "- This suggests that product diversity is relatively low, with a few products dominating sales.\n",
    "\n",
    "### 2. LIFESTAGE (Customer Lifestage):\n",
    "- There are **7 unique lifestage categories** in the dataset.\n",
    "- The most common customer segment is **\"OLDER SINGLES/COUPLES\"**, making up **54,479 transactions**.\n",
    "- This indicates that a significant portion of sales comes from older individuals or couples.\n",
    "\n",
    "### 3. PREMIUM_CUSTOMER (Customer Segment):\n",
    "- The dataset includes **3 unique customer segments**.\n",
    "- The most common segment is **\"Mainstream\"**, accounting for **101,988 transactions**.\n",
    "- This suggests that the majority of customers belong to the **mass-market segment**, rather than premium or budget categories."
   ]
  },
  {
   "cell_type": "markdown",
   "id": "992a6502-29d5-4596-a8e6-ceba1857f293",
   "metadata": {},
   "source": [
    "# Data Cleaning and Transformation\n",
    "**Since there are no NULL values present in the data we will directly look into duplicate values**"
   ]
  },
  {
   "cell_type": "markdown",
   "id": "86bddb97-1b92-4b12-80be-d06228ef3f9d",
   "metadata": {},
   "source": [
    "## Handling Duplicates"
   ]
  },
  {
   "cell_type": "code",
   "execution_count": 21,
   "id": "34d479ba-1d08-4c0b-9438-355d5924d06f",
   "metadata": {},
   "outputs": [],
   "source": [
    "# Finding duplicate row (keeping all instances)\n",
    "duplicate_rows = merged_df[merged_df.duplicated(keep=False)]"
   ]
  },
  {
   "cell_type": "code",
   "execution_count": 22,
   "id": "2c2fcd9b-2fc1-41b9-a5f6-a9c5b83f1691",
   "metadata": {},
   "outputs": [
    {
     "data": {
      "text/html": [
       "<div>\n",
       "<style scoped>\n",
       "    .dataframe tbody tr th:only-of-type {\n",
       "        vertical-align: middle;\n",
       "    }\n",
       "\n",
       "    .dataframe tbody tr th {\n",
       "        vertical-align: top;\n",
       "    }\n",
       "\n",
       "    .dataframe thead th {\n",
       "        text-align: right;\n",
       "    }\n",
       "</style>\n",
       "<table border=\"1\" class=\"dataframe\">\n",
       "  <thead>\n",
       "    <tr style=\"text-align: right;\">\n",
       "      <th></th>\n",
       "      <th>DATE</th>\n",
       "      <th>STORE_NBR</th>\n",
       "      <th>LYLTY_CARD_NBR</th>\n",
       "      <th>TXN_ID</th>\n",
       "      <th>PROD_NBR</th>\n",
       "      <th>PROD_NAME</th>\n",
       "      <th>PROD_QTY</th>\n",
       "      <th>TOT_SALES</th>\n",
       "      <th>LIFESTAGE</th>\n",
       "      <th>PREMIUM_CUSTOMER</th>\n",
       "    </tr>\n",
       "  </thead>\n",
       "  <tbody>\n",
       "    <tr>\n",
       "      <th>124843</th>\n",
       "      <td>43374</td>\n",
       "      <td>107</td>\n",
       "      <td>107024</td>\n",
       "      <td>108462</td>\n",
       "      <td>45</td>\n",
       "      <td>Smiths Thinly Cut   Roast Chicken 175g</td>\n",
       "      <td>2</td>\n",
       "      <td>6.0</td>\n",
       "      <td>OLDER SINGLES/COUPLES</td>\n",
       "      <td>Premium</td>\n",
       "    </tr>\n",
       "    <tr>\n",
       "      <th>124845</th>\n",
       "      <td>43374</td>\n",
       "      <td>107</td>\n",
       "      <td>107024</td>\n",
       "      <td>108462</td>\n",
       "      <td>45</td>\n",
       "      <td>Smiths Thinly Cut   Roast Chicken 175g</td>\n",
       "      <td>2</td>\n",
       "      <td>6.0</td>\n",
       "      <td>OLDER SINGLES/COUPLES</td>\n",
       "      <td>Premium</td>\n",
       "    </tr>\n",
       "  </tbody>\n",
       "</table>\n",
       "</div>"
      ],
      "text/plain": [
       "         DATE  STORE_NBR  LYLTY_CARD_NBR  TXN_ID  PROD_NBR  \\\n",
       "124843  43374        107          107024  108462        45   \n",
       "124845  43374        107          107024  108462        45   \n",
       "\n",
       "                                     PROD_NAME  PROD_QTY  TOT_SALES  \\\n",
       "124843  Smiths Thinly Cut   Roast Chicken 175g         2        6.0   \n",
       "124845  Smiths Thinly Cut   Roast Chicken 175g         2        6.0   \n",
       "\n",
       "                    LIFESTAGE PREMIUM_CUSTOMER  \n",
       "124843  OLDER SINGLES/COUPLES          Premium  \n",
       "124845  OLDER SINGLES/COUPLES          Premium  "
      ]
     },
     "execution_count": 22,
     "metadata": {},
     "output_type": "execute_result"
    }
   ],
   "source": [
    "duplicate_rows.head()"
   ]
  },
  {
   "cell_type": "code",
   "execution_count": 24,
   "id": "c82a0904-dcd7-433d-9713-201fb4c97f55",
   "metadata": {},
   "outputs": [
    {
     "name": "stdout",
     "output_type": "stream",
     "text": [
      "The dataset contains 1 duplicate rows that need to be removed.\n"
     ]
    }
   ],
   "source": [
    "# Displaying the number of duplicate rows\n",
    "print(f\"The dataset contains {merged_df.duplicated().sum()} duplicate rows that need to be removed.\")"
   ]
  },
  {
   "cell_type": "code",
   "execution_count": 26,
   "id": "a1b6a8e7-2264-4024-b011-4dc1719a3ddf",
   "metadata": {},
   "outputs": [],
   "source": [
    "# Removing duplicate rows\n",
    "merged_df.drop_duplicates(inplace=True)"
   ]
  },
  {
   "cell_type": "code",
   "execution_count": 27,
   "id": "3db9dae9-2dcd-41bd-b8f4-5c7b95cf2b91",
   "metadata": {},
   "outputs": [
    {
     "data": {
      "text/plain": [
       "264835"
      ]
     },
     "execution_count": 27,
     "metadata": {},
     "output_type": "execute_result"
    }
   ],
   "source": [
    "# Getting the number of rows in the dataframe\n",
    "merged_df.shape[0]"
   ]
  },
  {
   "cell_type": "code",
   "execution_count": 28,
   "id": "bbe1df35-0cd8-4a82-8e07-f12848f08f8d",
   "metadata": {},
   "outputs": [
    {
     "data": {
      "text/html": [
       "<div>\n",
       "<style scoped>\n",
       "    .dataframe tbody tr th:only-of-type {\n",
       "        vertical-align: middle;\n",
       "    }\n",
       "\n",
       "    .dataframe tbody tr th {\n",
       "        vertical-align: top;\n",
       "    }\n",
       "\n",
       "    .dataframe thead th {\n",
       "        text-align: right;\n",
       "    }\n",
       "</style>\n",
       "<table border=\"1\" class=\"dataframe\">\n",
       "  <thead>\n",
       "    <tr style=\"text-align: right;\">\n",
       "      <th></th>\n",
       "      <th>DATE</th>\n",
       "      <th>STORE_NBR</th>\n",
       "      <th>LYLTY_CARD_NBR</th>\n",
       "      <th>TXN_ID</th>\n",
       "      <th>PROD_NBR</th>\n",
       "      <th>PROD_NAME</th>\n",
       "      <th>PROD_QTY</th>\n",
       "      <th>TOT_SALES</th>\n",
       "      <th>LIFESTAGE</th>\n",
       "      <th>PREMIUM_CUSTOMER</th>\n",
       "    </tr>\n",
       "  </thead>\n",
       "  <tbody>\n",
       "    <tr>\n",
       "      <th>0</th>\n",
       "      <td>43390</td>\n",
       "      <td>1</td>\n",
       "      <td>1000</td>\n",
       "      <td>1</td>\n",
       "      <td>5</td>\n",
       "      <td>Natural Chip        Compny SeaSalt175g</td>\n",
       "      <td>2</td>\n",
       "      <td>6.0</td>\n",
       "      <td>YOUNG SINGLES/COUPLES</td>\n",
       "      <td>Premium</td>\n",
       "    </tr>\n",
       "    <tr>\n",
       "      <th>1</th>\n",
       "      <td>43599</td>\n",
       "      <td>1</td>\n",
       "      <td>1307</td>\n",
       "      <td>348</td>\n",
       "      <td>66</td>\n",
       "      <td>CCs Nacho Cheese    175g</td>\n",
       "      <td>3</td>\n",
       "      <td>6.3</td>\n",
       "      <td>MIDAGE SINGLES/COUPLES</td>\n",
       "      <td>Budget</td>\n",
       "    </tr>\n",
       "    <tr>\n",
       "      <th>2</th>\n",
       "      <td>43605</td>\n",
       "      <td>1</td>\n",
       "      <td>1343</td>\n",
       "      <td>383</td>\n",
       "      <td>61</td>\n",
       "      <td>Smiths Crinkle Cut  Chips Chicken 170g</td>\n",
       "      <td>2</td>\n",
       "      <td>2.9</td>\n",
       "      <td>MIDAGE SINGLES/COUPLES</td>\n",
       "      <td>Budget</td>\n",
       "    </tr>\n",
       "    <tr>\n",
       "      <th>3</th>\n",
       "      <td>43329</td>\n",
       "      <td>2</td>\n",
       "      <td>2373</td>\n",
       "      <td>974</td>\n",
       "      <td>69</td>\n",
       "      <td>Smiths Chip Thinly  S/Cream&amp;Onion 175g</td>\n",
       "      <td>5</td>\n",
       "      <td>15.0</td>\n",
       "      <td>MIDAGE SINGLES/COUPLES</td>\n",
       "      <td>Budget</td>\n",
       "    </tr>\n",
       "    <tr>\n",
       "      <th>4</th>\n",
       "      <td>43330</td>\n",
       "      <td>2</td>\n",
       "      <td>2426</td>\n",
       "      <td>1038</td>\n",
       "      <td>108</td>\n",
       "      <td>Kettle Tortilla ChpsHny&amp;Jlpno Chili 150g</td>\n",
       "      <td>3</td>\n",
       "      <td>13.8</td>\n",
       "      <td>MIDAGE SINGLES/COUPLES</td>\n",
       "      <td>Budget</td>\n",
       "    </tr>\n",
       "  </tbody>\n",
       "</table>\n",
       "</div>"
      ],
      "text/plain": [
       "    DATE  STORE_NBR  LYLTY_CARD_NBR  TXN_ID  PROD_NBR  \\\n",
       "0  43390          1            1000       1         5   \n",
       "1  43599          1            1307     348        66   \n",
       "2  43605          1            1343     383        61   \n",
       "3  43329          2            2373     974        69   \n",
       "4  43330          2            2426    1038       108   \n",
       "\n",
       "                                  PROD_NAME  PROD_QTY  TOT_SALES  \\\n",
       "0    Natural Chip        Compny SeaSalt175g         2        6.0   \n",
       "1                  CCs Nacho Cheese    175g         3        6.3   \n",
       "2    Smiths Crinkle Cut  Chips Chicken 170g         2        2.9   \n",
       "3    Smiths Chip Thinly  S/Cream&Onion 175g         5       15.0   \n",
       "4  Kettle Tortilla ChpsHny&Jlpno Chili 150g         3       13.8   \n",
       "\n",
       "                LIFESTAGE PREMIUM_CUSTOMER  \n",
       "0   YOUNG SINGLES/COUPLES          Premium  \n",
       "1  MIDAGE SINGLES/COUPLES           Budget  \n",
       "2  MIDAGE SINGLES/COUPLES           Budget  \n",
       "3  MIDAGE SINGLES/COUPLES           Budget  \n",
       "4  MIDAGE SINGLES/COUPLES           Budget  "
      ]
     },
     "execution_count": 28,
     "metadata": {},
     "output_type": "execute_result"
    }
   ],
   "source": [
    "merged_df.head()"
   ]
  },
  {
   "cell_type": "markdown",
   "id": "c4844c80-78d4-4284-bc95-e96d933a874c",
   "metadata": {},
   "source": [
    "## Finding TOP Most Profitable Customers"
   ]
  },
  {
   "cell_type": "code",
   "execution_count": 31,
   "id": "2edeebe5-44ac-44dd-9dfe-276ab4c11e28",
   "metadata": {},
   "outputs": [
    {
     "data": {
      "text/plain": [
       "PREMIUM_CUSTOMER\n",
       "Mainstream    101988\n",
       "Budget         93157\n",
       "Premium        69690\n",
       "Name: count, dtype: int64"
      ]
     },
     "execution_count": 31,
     "metadata": {},
     "output_type": "execute_result"
    }
   ],
   "source": [
    "merged_df['PREMIUM_CUSTOMER'].value_counts()"
   ]
  },
  {
   "cell_type": "code",
   "execution_count": 32,
   "id": "8a3f34e4-c848-4c02-934e-a26774aabccb",
   "metadata": {},
   "outputs": [
    {
     "data": {
      "text/plain": [
       "LIFESTAGE\n",
       "OLDER SINGLES/COUPLES     54478\n",
       "RETIREES                  49763\n",
       "OLDER FAMILIES            48596\n",
       "YOUNG FAMILIES            43592\n",
       "YOUNG SINGLES/COUPLES     36377\n",
       "MIDAGE SINGLES/COUPLES    25110\n",
       "NEW FAMILIES               6919\n",
       "Name: count, dtype: int64"
      ]
     },
     "execution_count": 32,
     "metadata": {},
     "output_type": "execute_result"
    }
   ],
   "source": [
    "merged_df['LIFESTAGE'].value_counts()"
   ]
  },
  {
   "cell_type": "code",
   "execution_count": 33,
   "id": "79c18e65-4462-4137-b840-f59774bbdae7",
   "metadata": {},
   "outputs": [],
   "source": [
    "customer_loyalty = merged_df.groupby([\"LIFESTAGE\", \"PREMIUM_CUSTOMER\"]).agg(\n",
    "    total_spent=(\"TOT_SALES\", \"sum\"),\n",
    "    num_transactions=(\"TXN_ID\", \"count\")\n",
    ").reset_index()"
   ]
  },
  {
   "cell_type": "code",
   "execution_count": 36,
   "id": "c0e2c230-d80c-41bd-98e4-c96dc735a14c",
   "metadata": {},
   "outputs": [
    {
     "data": {
      "image/png": "[encoded data removed]",
      "text/plain": [
       "<Figure size 1200x600 with 1 Axes>"
      ]
     },
     "metadata": {},
     "output_type": "display_data"
    }
   ],
   "source": [
    "# Visualization - Spending by Customer Segment\n",
    "plt.figure(figsize=(12, 6))\n",
    "sns.barplot(data=customer_loyalty, x=\"LIFESTAGE\", y=\"total_spent\", hue=\"PREMIUM_CUSTOMER\", palette=\"viridis\")\n",
    "plt.xticks(rotation=45)\n",
    "plt.xlabel(\"Lifestage\")\n",
    "plt.ylabel(\"Total Revenue\")\n",
    "plt.title(\"Customer Spending by Segment\")\n",
    "plt.legend(title=\"Premium Customer\")\n",
    "plt.show()"
   ]
  },
  {
   "cell_type": "markdown",
   "id": "fd33ee95-f73c-4288-a463-f0eb626f4a12",
   "metadata": {},
   "source": [
    "### Key Obeservations :\n",
    "\n",
    "#### Older Singles/Couples and Retirees appear to be the most loyal customers, as they contribute the highest total revenue. Their spending is consistent across all premium categories (Budget, Mainstream, and Premium).\n",
    "\n",
    "#### Older Families also show strong spending habits, particularly among Budget and Mainstream segments.\n",
    "\n",
    "#### Young Singles/Couples and New Families have the lowest total spending, indicating that they are less frequent or less high-value buyers.\n",
    "\n",
    "### Most Loyal Customers :\n",
    "\n",
    "#### Retirees (Mainstream & Budget segments) – They spend the most, likely due to stable disposable income and consistent shopping habits.\n",
    "\n",
    "#### Older Singles/Couples (All segments) – They exhibit strong purchasing behavior, making them valuable customers to target for loyalty programs or personalized promotions.\n",
    "\n",
    "#### Older Families (Budget segment) – This group also spends significantly, possibly purchasing in bulk for household needs."
   ]
  },
  {
   "cell_type": "markdown",
   "id": "2376fc93-5fe4-4124-9e3a-670558a5517d",
   "metadata": {},
   "source": [
    "## TOP 3 MOST PROFITABLE PRODUCTS"
   ]
  },
  {
   "cell_type": "code",
   "execution_count": 38,
   "id": "baa2788a-ad72-4a01-8b7a-d932fa5cb77b",
   "metadata": {},
   "outputs": [
    {
     "data": {
      "image/png": "[encoded data removed]",
      "text/plain": [
       "<Figure size 1000x500 with 1 Axes>"
      ]
     },
     "metadata": {},
     "output_type": "display_data"
    }
   ],
   "source": [
    "top_products = merged_df.groupby(\"PROD_NAME\")[\"TOT_SALES\"].sum().sort_values(ascending=False).head(3)\n",
    "\n",
    "# Visualization\n",
    "plt.figure(figsize=(10, 5))\n",
    "sns.barplot(x=top_products.values, hue=top_products.index,palette=\"viridis\")\n",
    "plt.xlabel(\"Total Sales\")\n",
    "plt.ylabel(\"Product Name\")\n",
    "plt.title(\"Top 3 Most Profitable Products\")\n",
    "plt.show()"
   ]
  },
  {
   "cell_type": "markdown",
   "id": "83a63f9c-0545-4a3b-ab41-d4288b5d6848",
   "metadata": {},
   "source": [
    "# Inferences\n",
    "#### TOP 3 MOST PROFITABLE PRODUCTS ARE :\r\n",
    "\r\n",
    "#### 1. DORITO CORN CHIPS (380 GMS.)\r\n",
    "\r\n",
    "#### 2. SMITHS CRINKLE CHIPS , ORIGINALS (380 GMS.)\r\n",
    "\r\n",
    "#### 3. SMITHS CRINKLE CHIPS , SALT & VINEGAR (330 GMS.)"
   ]
  },
  {
   "cell_type": "markdown",
   "id": "1fd59fcb-b69b-4b70-87a7-1f2736e9c1f2",
   "metadata": {},
   "source": [
    "## DASHBOARD FOR ALL THE PLOTS AND KEY FINDINGS"
   ]
  },
  {
   "cell_type": "code",
   "execution_count": 45,
   "id": "d0b5a5ee-b84d-431c-989b-272acf0c721b",
   "metadata": {},
   "outputs": [
    {
     "data": {
      "text/html": [
       "\n",
       "        <iframe\n",
       "            width=\"100%\"\n",
       "            height=\"650\"\n",
       "            src=\"http://127.0.0.1:8050/\"\n",
       "            frameborder=\"0\"\n",
       "            allowfullscreen\n",
       "            \n",
       "        ></iframe>\n",
       "        "
      ],
      "text/plain": [
       "<IPython.lib.display.IFrame at 0x2a09e28cb60>"
      ]
     },
     "metadata": {},
     "output_type": "display_data"
    }
   ],
   "source": [
    "# Grouping data for insights\n",
    "spending_by_lifestage = merged_df.groupby(['LIFESTAGE', 'PREMIUM_CUSTOMER'])['TOT_SALES'].sum().reset_index()\n",
    "\n",
    "# Identifying top products based on sales\n",
    "top_products = merged_df.groupby('PROD_NAME')['TOT_SALES'].sum().reset_index()\n",
    "top_products_sorted = top_products.sort_values(by='TOT_SALES', ascending=False).head(3)\n",
    "\n",
    "# Counting transactions per segment\n",
    "transactions_per_segment = merged_df.groupby(['LIFESTAGE', 'PREMIUM_CUSTOMER'])['TXN_ID'].count().reset_index()\n",
    "transactions_per_segment.rename(columns={'TXN_ID': 'Total Transactions'}, inplace=True)\n",
    "\n",
    "# Creating visuals\n",
    "fig1 = px.pie(spending_by_lifestage, \n",
    "              names=\"LIFESTAGE\", \n",
    "              values=\"TOT_SALES\", \n",
    "              color=\"PREMIUM_CUSTOMER\", \n",
    "              title=\"Customer Spending by Segment\", \n",
    "              labels={\"TOT_SALES\": \"Total Sales\", \"LIFESTAGE\": \"Lifestage\"})\n",
    "\n",
    "fig2 = px.bar(top_products_sorted, \n",
    "              x=\"TOT_SALES\", \n",
    "              y=\"PROD_NAME\", \n",
    "              title=\"Top 3 Best-Selling Products\", \n",
    "              labels={\"TOT_SALES\": \"Total Sales\", \"PROD_NAME\": \"Product\"}, \n",
    "              orientation='h')\n",
    "\n",
    "fig3 = go.Figure()\n",
    "for segment in transactions_per_segment['PREMIUM_CUSTOMER'].unique():\n",
    "    segment_data = transactions_per_segment[transactions_per_segment['PREMIUM_CUSTOMER'] == segment]\n",
    "    fig3.add_trace(go.Bar(x=segment_data['LIFESTAGE'], \n",
    "                         y=segment_data['Total Transactions'], \n",
    "                         name=f\"Premium: {segment}\",\n",
    "                         hoverinfo='x+y',\n",
    "                         marker={'color': 'royalblue' if segment == 'Premium' else 'lightgray'}))\n",
    "\n",
    "fig3.update_layout(title=\"Total Transactions per Customer Segment\", \n",
    "                  xaxis_title=\"Lifestage\", \n",
    "                  yaxis_title=\"Total Transactions\", \n",
    "                  barmode=\"stack\")\n",
    "\n",
    "# Initialize Dash app\n",
    "app = dash.Dash(__name__)\n",
    "\n",
    "# Layout of the dashboard\n",
    "app.layout = html.Div(children=[\n",
    "    html.H1(\"Customer Insights Dashboard\", style={'textAlign': 'center'}),\n",
    "    \n",
    "    html.Div([\n",
    "        html.Div([dcc.Graph(figure=fig1)], style={'width': '48%', 'display': 'inline-block'}),\n",
    "        html.Div([dcc.Graph(figure=fig2)], style={'width': '48%', 'display': 'inline-block'}),\n",
    "    ], style={'display': 'flex', 'justify-content': 'space-between'}),\n",
    "    \n",
    "    html.Div([\n",
    "        dcc.Graph(figure=fig3)\n",
    "    ], style={'paddingTop': '20px'}),\n",
    "])\n",
    "\n",
    "# Running the app\n",
    "if __name__ == '__main__':\n",
    "    app.run_server(debug=True)"
   ]
  },
  {
   "cell_type": "code",
   "execution_count": null,
   "id": "43f269fa-5d9f-44dc-99b9-2c845b74f004",
   "metadata": {},
   "outputs": [],
   "source": []
  }
 ],
 "metadata": {
  "kernelspec": {
   "display_name": "Python 3 (ipykernel)",
   "language": "python",
   "name": "python3"
  },
  "language_info": {
   "codemirror_mode": {
    "name": "ipython",
    "version": 3
   },
   "file_extension": ".py",
   "mimetype": "text/x-python",
   "name": "python",
   "nbconvert_exporter": "python",
   "pygments_lexer": "ipython3",
   "version": "3.12.4"
  }
 },
 "nbformat": 4,
 "nbformat_minor": 5
}
